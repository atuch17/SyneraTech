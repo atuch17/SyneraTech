{
  "cells": [
    {
      "cell_type": "markdown",
      "metadata": {
        "id": "view-in-github",
        "colab_type": "text"
      },
      "source": [
        "<a href=\"https://colab.research.google.com/github/atuch17/SyneraTech/blob/main/2_Colab_Local.ipynb\" target=\"_parent\"><img src=\"https://colab.research.google.com/assets/colab-badge.svg\" alt=\"Open In Colab\"/></a>"
      ]
    },
    {
      "cell_type": "markdown",
      "source": [
        "# ETL - PRUEBAS\n"
      ],
      "metadata": {
        "id": "vKrby03vMqs1"
      }
    },
    {
      "cell_type": "markdown",
      "source": [
        "Anaconda\n",
        "prompt: https://blog.bolajiayodeji.com/how-to-connect-google-colab-to-a-local-runtime\n",
        "\n",
        "\n",
        "\n",
        "\n",
        "```\n",
        "jupyter notebook \\\n",
        "  --NotebookApp.allow_origin='https://colab.research.google.com' \\\n",
        "  --port=8888 \\\n",
        "  --NotebookApp.port_retries=0\n",
        "\n",
        "```\n",
        "\n"
      ],
      "metadata": {
        "id": "y2UuIdt_pJBf"
      }
    },
    {
      "cell_type": "code",
      "execution_count": null,
      "metadata": {
        "id": "GhbexgE7QTyN"
      },
      "outputs": [],
      "source": [
        "import pandas as pd\n",
        "from pandas import Series\n",
        "import string\n",
        "import re\n",
        "import numpy as np"
      ]
    },
    {
      "cell_type": "code",
      "source": [
        "from google.colab import drive\n",
        "drive.mount('/content/drive')\n"
      ],
      "metadata": {
        "id": "4ydF7nBQdK8T"
      },
      "execution_count": null,
      "outputs": []
    },
    {
      "cell_type": "markdown",
      "source": [
        "#### Leer datos"
      ],
      "metadata": {
        "id": "WwTWB4rzkrZV"
      }
    },
    {
      "cell_type": "code",
      "source": [
        "# @title paso 1\n",
        "\n",
        "# Download .csv limpios para hacer pruebas en local\n",
        "local_path = 'C:\\\\Users\\\\jrver\\\\Downloads\\\\exported_clean\\\\' #@param [\"C:\\\\Users\\\\jrver\\\\Downloads\\\\exported_clean\\\\\", \"C:\\\\Users\\\\aturi\\\\Desktop\\\\Temporal\\\\\"]\n",
        "\n",
        "\n",
        "df_user = pd.read_csv(local_path + 'df_user.csv', encoding='utf-8')\n",
        "df_budget = pd.read_csv(local_path + 'df_budget.csv', encoding='utf-8')\n",
        "df_grant_type = pd.read_csv(local_path + 'df_grant_type.csv', encoding='utf-8')\n",
        "df_invoice = pd.read_csv(local_path + 'df_invoice.csv', encoding='utf-8')\n",
        "df_organizations = pd.read_csv(local_path + 'df_organizations.csv', encoding='utf-8')\n",
        "df_projects = pd.read_csv(local_path + 'df_projects.csv', encoding='utf-8')\n",
        "df_research_types = pd.read_csv(local_path + 'df_research_types.csv', encoding='utf-8')\n",
        "df_cancer_types = pd.read_csv(local_path + 'df_cancer_types.csv', encoding='utf-8')\n",
        "df_cancer_phases = pd.read_csv(local_path + 'df_cancer_phases.csv', encoding='utf-8')\n",
        "df_scientific_justifications = pd.read_csv(local_path + 'df_scientific_justifications.csv', encoding='utf-8')\n",
        "df_research_team = pd.read_csv(local_path + 'df_research_team.csv', encoding='utf-8')\n",
        "df_project_research_type = pd.read_csv(local_path + 'df_project_research_type.csv', encoding='utf-8')\n",
        "df_project_cancer_type = pd.read_csv(local_path + 'df_project_cancer_type.csv', encoding='utf-8')\n",
        "df_project_cancer_phases = pd.read_csv(local_path + 'df_project_cancer_phases.csv', encoding='utf-8')\n",
        "df_pr_exported = pd.read_csv(local_path + 'df_pr_exported.csv', encoding='utf-8')\n"
      ],
      "metadata": {
        "id": "2F5PqaUUktLE",
        "colab": {
          "base_uri": "https://localhost:8080/",
          "height": 391
        },
        "outputId": "31aff337-3068-45cc-e8ec-6b5ce02c19af"
      },
      "execution_count": null,
      "outputs": [
        {
          "output_type": "error",
          "ename": "FileNotFoundError",
          "evalue": "ignored",
          "traceback": [
            "\u001b[0;31m---------------------------------------------------------------------------\u001b[0m",
            "\u001b[0;31mFileNotFoundError\u001b[0m                         Traceback (most recent call last)",
            "\u001b[0;32m<ipython-input-2-7dc8973805d1>\u001b[0m in \u001b[0;36m<cell line: 6>\u001b[0;34m()\u001b[0m\n\u001b[1;32m      4\u001b[0m \u001b[0mlocal_path\u001b[0m \u001b[0;34m=\u001b[0m \u001b[0;34m'C:\\\\Users\\\\jrver\\\\Downloads\\\\exported_clean\\\\'\u001b[0m \u001b[0;31m#@param [\"C:\\\\Users\\\\jrver\\\\Downloads\\\\exported_clean\\\\\", \"C:\\\\Users\\\\aturi\\\\Desktop\\\\Temporal\\\\\"]\u001b[0m\u001b[0;34m\u001b[0m\u001b[0;34m\u001b[0m\u001b[0m\n\u001b[1;32m      5\u001b[0m \u001b[0;34m\u001b[0m\u001b[0m\n\u001b[0;32m----> 6\u001b[0;31m \u001b[0mdf_user\u001b[0m \u001b[0;34m=\u001b[0m \u001b[0mpd\u001b[0m\u001b[0;34m.\u001b[0m\u001b[0mread_csv\u001b[0m\u001b[0;34m(\u001b[0m\u001b[0mlocal_path\u001b[0m \u001b[0;34m+\u001b[0m \u001b[0;34m'df_user.csv'\u001b[0m\u001b[0;34m,\u001b[0m \u001b[0mencoding\u001b[0m\u001b[0;34m=\u001b[0m\u001b[0;34m'utf-8'\u001b[0m\u001b[0;34m)\u001b[0m\u001b[0;34m\u001b[0m\u001b[0;34m\u001b[0m\u001b[0m\n\u001b[0m\u001b[1;32m      7\u001b[0m \u001b[0mdf_budget\u001b[0m \u001b[0;34m=\u001b[0m \u001b[0mpd\u001b[0m\u001b[0;34m.\u001b[0m\u001b[0mread_csv\u001b[0m\u001b[0;34m(\u001b[0m\u001b[0mlocal_path\u001b[0m \u001b[0;34m+\u001b[0m \u001b[0;34m'df_budget.csv'\u001b[0m\u001b[0;34m,\u001b[0m \u001b[0mencoding\u001b[0m\u001b[0;34m=\u001b[0m\u001b[0;34m'utf-8'\u001b[0m\u001b[0;34m)\u001b[0m\u001b[0;34m\u001b[0m\u001b[0;34m\u001b[0m\u001b[0m\n\u001b[1;32m      8\u001b[0m \u001b[0mdf_grant_type\u001b[0m \u001b[0;34m=\u001b[0m \u001b[0mpd\u001b[0m\u001b[0;34m.\u001b[0m\u001b[0mread_csv\u001b[0m\u001b[0;34m(\u001b[0m\u001b[0mlocal_path\u001b[0m \u001b[0;34m+\u001b[0m \u001b[0;34m'df_grant_type.csv'\u001b[0m\u001b[0;34m,\u001b[0m \u001b[0mencoding\u001b[0m\u001b[0;34m=\u001b[0m\u001b[0;34m'utf-8'\u001b[0m\u001b[0;34m)\u001b[0m\u001b[0;34m\u001b[0m\u001b[0;34m\u001b[0m\u001b[0m\n",
            "\u001b[0;32m/usr/local/lib/python3.10/dist-packages/pandas/util/_decorators.py\u001b[0m in \u001b[0;36mwrapper\u001b[0;34m(*args, **kwargs)\u001b[0m\n\u001b[1;32m    209\u001b[0m                 \u001b[0;32melse\u001b[0m\u001b[0;34m:\u001b[0m\u001b[0;34m\u001b[0m\u001b[0;34m\u001b[0m\u001b[0m\n\u001b[1;32m    210\u001b[0m                     \u001b[0mkwargs\u001b[0m\u001b[0;34m[\u001b[0m\u001b[0mnew_arg_name\u001b[0m\u001b[0;34m]\u001b[0m \u001b[0;34m=\u001b[0m \u001b[0mnew_arg_value\u001b[0m\u001b[0;34m\u001b[0m\u001b[0;34m\u001b[0m\u001b[0m\n\u001b[0;32m--> 211\u001b[0;31m             \u001b[0;32mreturn\u001b[0m \u001b[0mfunc\u001b[0m\u001b[0;34m(\u001b[0m\u001b[0;34m*\u001b[0m\u001b[0margs\u001b[0m\u001b[0;34m,\u001b[0m \u001b[0;34m**\u001b[0m\u001b[0mkwargs\u001b[0m\u001b[0;34m)\u001b[0m\u001b[0;34m\u001b[0m\u001b[0;34m\u001b[0m\u001b[0m\n\u001b[0m\u001b[1;32m    212\u001b[0m \u001b[0;34m\u001b[0m\u001b[0m\n\u001b[1;32m    213\u001b[0m         \u001b[0;32mreturn\u001b[0m \u001b[0mcast\u001b[0m\u001b[0;34m(\u001b[0m\u001b[0mF\u001b[0m\u001b[0;34m,\u001b[0m \u001b[0mwrapper\u001b[0m\u001b[0;34m)\u001b[0m\u001b[0;34m\u001b[0m\u001b[0;34m\u001b[0m\u001b[0m\n",
            "\u001b[0;32m/usr/local/lib/python3.10/dist-packages/pandas/util/_decorators.py\u001b[0m in \u001b[0;36mwrapper\u001b[0;34m(*args, **kwargs)\u001b[0m\n\u001b[1;32m    329\u001b[0m                     \u001b[0mstacklevel\u001b[0m\u001b[0;34m=\u001b[0m\u001b[0mfind_stack_level\u001b[0m\u001b[0;34m(\u001b[0m\u001b[0;34m)\u001b[0m\u001b[0;34m,\u001b[0m\u001b[0;34m\u001b[0m\u001b[0;34m\u001b[0m\u001b[0m\n\u001b[1;32m    330\u001b[0m                 )\n\u001b[0;32m--> 331\u001b[0;31m             \u001b[0;32mreturn\u001b[0m \u001b[0mfunc\u001b[0m\u001b[0;34m(\u001b[0m\u001b[0;34m*\u001b[0m\u001b[0margs\u001b[0m\u001b[0;34m,\u001b[0m \u001b[0;34m**\u001b[0m\u001b[0mkwargs\u001b[0m\u001b[0;34m)\u001b[0m\u001b[0;34m\u001b[0m\u001b[0;34m\u001b[0m\u001b[0m\n\u001b[0m\u001b[1;32m    332\u001b[0m \u001b[0;34m\u001b[0m\u001b[0m\n\u001b[1;32m    333\u001b[0m         \u001b[0;31m# error: \"Callable[[VarArg(Any), KwArg(Any)], Any]\" has no\u001b[0m\u001b[0;34m\u001b[0m\u001b[0;34m\u001b[0m\u001b[0m\n",
            "\u001b[0;32m/usr/local/lib/python3.10/dist-packages/pandas/io/parsers/readers.py\u001b[0m in \u001b[0;36mread_csv\u001b[0;34m(filepath_or_buffer, sep, delimiter, header, names, index_col, usecols, squeeze, prefix, mangle_dupe_cols, dtype, engine, converters, true_values, false_values, skipinitialspace, skiprows, skipfooter, nrows, na_values, keep_default_na, na_filter, verbose, skip_blank_lines, parse_dates, infer_datetime_format, keep_date_col, date_parser, dayfirst, cache_dates, iterator, chunksize, compression, thousands, decimal, lineterminator, quotechar, quoting, doublequote, escapechar, comment, encoding, encoding_errors, dialect, error_bad_lines, warn_bad_lines, on_bad_lines, delim_whitespace, low_memory, memory_map, float_precision, storage_options)\u001b[0m\n\u001b[1;32m    948\u001b[0m     \u001b[0mkwds\u001b[0m\u001b[0;34m.\u001b[0m\u001b[0mupdate\u001b[0m\u001b[0;34m(\u001b[0m\u001b[0mkwds_defaults\u001b[0m\u001b[0;34m)\u001b[0m\u001b[0;34m\u001b[0m\u001b[0;34m\u001b[0m\u001b[0m\n\u001b[1;32m    949\u001b[0m \u001b[0;34m\u001b[0m\u001b[0m\n\u001b[0;32m--> 950\u001b[0;31m     \u001b[0;32mreturn\u001b[0m \u001b[0m_read\u001b[0m\u001b[0;34m(\u001b[0m\u001b[0mfilepath_or_buffer\u001b[0m\u001b[0;34m,\u001b[0m \u001b[0mkwds\u001b[0m\u001b[0;34m)\u001b[0m\u001b[0;34m\u001b[0m\u001b[0;34m\u001b[0m\u001b[0m\n\u001b[0m\u001b[1;32m    951\u001b[0m \u001b[0;34m\u001b[0m\u001b[0m\n\u001b[1;32m    952\u001b[0m \u001b[0;34m\u001b[0m\u001b[0m\n",
            "\u001b[0;32m/usr/local/lib/python3.10/dist-packages/pandas/io/parsers/readers.py\u001b[0m in \u001b[0;36m_read\u001b[0;34m(filepath_or_buffer, kwds)\u001b[0m\n\u001b[1;32m    603\u001b[0m \u001b[0;34m\u001b[0m\u001b[0m\n\u001b[1;32m    604\u001b[0m     \u001b[0;31m# Create the parser.\u001b[0m\u001b[0;34m\u001b[0m\u001b[0;34m\u001b[0m\u001b[0m\n\u001b[0;32m--> 605\u001b[0;31m     \u001b[0mparser\u001b[0m \u001b[0;34m=\u001b[0m \u001b[0mTextFileReader\u001b[0m\u001b[0;34m(\u001b[0m\u001b[0mfilepath_or_buffer\u001b[0m\u001b[0;34m,\u001b[0m \u001b[0;34m**\u001b[0m\u001b[0mkwds\u001b[0m\u001b[0;34m)\u001b[0m\u001b[0;34m\u001b[0m\u001b[0;34m\u001b[0m\u001b[0m\n\u001b[0m\u001b[1;32m    606\u001b[0m \u001b[0;34m\u001b[0m\u001b[0m\n\u001b[1;32m    607\u001b[0m     \u001b[0;32mif\u001b[0m \u001b[0mchunksize\u001b[0m \u001b[0;32mor\u001b[0m \u001b[0miterator\u001b[0m\u001b[0;34m:\u001b[0m\u001b[0;34m\u001b[0m\u001b[0;34m\u001b[0m\u001b[0m\n",
            "\u001b[0;32m/usr/local/lib/python3.10/dist-packages/pandas/io/parsers/readers.py\u001b[0m in \u001b[0;36m__init__\u001b[0;34m(self, f, engine, **kwds)\u001b[0m\n\u001b[1;32m   1440\u001b[0m \u001b[0;34m\u001b[0m\u001b[0m\n\u001b[1;32m   1441\u001b[0m         \u001b[0mself\u001b[0m\u001b[0;34m.\u001b[0m\u001b[0mhandles\u001b[0m\u001b[0;34m:\u001b[0m \u001b[0mIOHandles\u001b[0m \u001b[0;34m|\u001b[0m \u001b[0;32mNone\u001b[0m \u001b[0;34m=\u001b[0m \u001b[0;32mNone\u001b[0m\u001b[0;34m\u001b[0m\u001b[0;34m\u001b[0m\u001b[0m\n\u001b[0;32m-> 1442\u001b[0;31m         \u001b[0mself\u001b[0m\u001b[0;34m.\u001b[0m\u001b[0m_engine\u001b[0m \u001b[0;34m=\u001b[0m \u001b[0mself\u001b[0m\u001b[0;34m.\u001b[0m\u001b[0m_make_engine\u001b[0m\u001b[0;34m(\u001b[0m\u001b[0mf\u001b[0m\u001b[0;34m,\u001b[0m \u001b[0mself\u001b[0m\u001b[0;34m.\u001b[0m\u001b[0mengine\u001b[0m\u001b[0;34m)\u001b[0m\u001b[0;34m\u001b[0m\u001b[0;34m\u001b[0m\u001b[0m\n\u001b[0m\u001b[1;32m   1443\u001b[0m \u001b[0;34m\u001b[0m\u001b[0m\n\u001b[1;32m   1444\u001b[0m     \u001b[0;32mdef\u001b[0m \u001b[0mclose\u001b[0m\u001b[0;34m(\u001b[0m\u001b[0mself\u001b[0m\u001b[0;34m)\u001b[0m \u001b[0;34m->\u001b[0m \u001b[0;32mNone\u001b[0m\u001b[0;34m:\u001b[0m\u001b[0;34m\u001b[0m\u001b[0;34m\u001b[0m\u001b[0m\n",
            "\u001b[0;32m/usr/local/lib/python3.10/dist-packages/pandas/io/parsers/readers.py\u001b[0m in \u001b[0;36m_make_engine\u001b[0;34m(self, f, engine)\u001b[0m\n\u001b[1;32m   1733\u001b[0m                 \u001b[0;32mif\u001b[0m \u001b[0;34m\"b\"\u001b[0m \u001b[0;32mnot\u001b[0m \u001b[0;32min\u001b[0m \u001b[0mmode\u001b[0m\u001b[0;34m:\u001b[0m\u001b[0;34m\u001b[0m\u001b[0;34m\u001b[0m\u001b[0m\n\u001b[1;32m   1734\u001b[0m                     \u001b[0mmode\u001b[0m \u001b[0;34m+=\u001b[0m \u001b[0;34m\"b\"\u001b[0m\u001b[0;34m\u001b[0m\u001b[0;34m\u001b[0m\u001b[0m\n\u001b[0;32m-> 1735\u001b[0;31m             self.handles = get_handle(\n\u001b[0m\u001b[1;32m   1736\u001b[0m                 \u001b[0mf\u001b[0m\u001b[0;34m,\u001b[0m\u001b[0;34m\u001b[0m\u001b[0;34m\u001b[0m\u001b[0m\n\u001b[1;32m   1737\u001b[0m                 \u001b[0mmode\u001b[0m\u001b[0;34m,\u001b[0m\u001b[0;34m\u001b[0m\u001b[0;34m\u001b[0m\u001b[0m\n",
            "\u001b[0;32m/usr/local/lib/python3.10/dist-packages/pandas/io/common.py\u001b[0m in \u001b[0;36mget_handle\u001b[0;34m(path_or_buf, mode, encoding, compression, memory_map, is_text, errors, storage_options)\u001b[0m\n\u001b[1;32m    863\u001b[0m         \u001b[0;32melse\u001b[0m\u001b[0;34m:\u001b[0m\u001b[0;34m\u001b[0m\u001b[0;34m\u001b[0m\u001b[0m\n\u001b[1;32m    864\u001b[0m             \u001b[0;31m# Binary mode\u001b[0m\u001b[0;34m\u001b[0m\u001b[0;34m\u001b[0m\u001b[0m\n\u001b[0;32m--> 865\u001b[0;31m             \u001b[0mhandle\u001b[0m \u001b[0;34m=\u001b[0m \u001b[0mopen\u001b[0m\u001b[0;34m(\u001b[0m\u001b[0mhandle\u001b[0m\u001b[0;34m,\u001b[0m \u001b[0mioargs\u001b[0m\u001b[0;34m.\u001b[0m\u001b[0mmode\u001b[0m\u001b[0;34m)\u001b[0m\u001b[0;34m\u001b[0m\u001b[0;34m\u001b[0m\u001b[0m\n\u001b[0m\u001b[1;32m    866\u001b[0m         \u001b[0mhandles\u001b[0m\u001b[0;34m.\u001b[0m\u001b[0mappend\u001b[0m\u001b[0;34m(\u001b[0m\u001b[0mhandle\u001b[0m\u001b[0;34m)\u001b[0m\u001b[0;34m\u001b[0m\u001b[0;34m\u001b[0m\u001b[0m\n\u001b[1;32m    867\u001b[0m \u001b[0;34m\u001b[0m\u001b[0m\n",
            "\u001b[0;31mFileNotFoundError\u001b[0m: [Errno 2] No such file or directory: 'C:\\\\Users\\\\jrver\\\\Downloads\\\\exported_clean\\\\df_user.csv'"
          ]
        }
      ]
    },
    {
      "cell_type": "markdown",
      "source": [
        "CARGA DE DATOS A BD"
      ],
      "metadata": {
        "id": "7WnhhqbUxv0x"
      }
    },
    {
      "cell_type": "code",
      "source": [
        "# @title paso 2\n",
        "!pip install psycopg2-binary sqlalchemy\n",
        "from sqlalchemy import create_engine\n",
        "#import psycopg2\n",
        "\n",
        "# Parámetros de conexión\n",
        "host = \"localhost\"\n",
        "port = \"5432\"\n",
        "database = \"Syneratech\" #@param [\"Syneratech\", \"postgres\"]\n",
        "user = \"postgres\"\n",
        "password = \"1234\"\n",
        "\n",
        "# Construye la cadena de conexión DATABASE_URL\n",
        "DATABASE_URL = f\"postgresql+psycopg2://{user}:{password}@{host}:{port}/{database}\"\n",
        "\n",
        "# Crea el motor de conexión\n",
        "engine = create_engine(DATABASE_URL)\n",
        "\n",
        "if_exists_value = \"append\" #@param [\"replace\", \"append\"]\n",
        "\n",
        "########### REPLACE: AÑADIR TABLAS y SUSTITUIR VALORES ################\n",
        "\n",
        "########## APPEND: AÑADIR REGISTROS NUEVOS A UNA TABLA EXISTENTE ####\n",
        "\n",
        "df_grant_type.to_sql('grant_types', engine, if_exists=if_exists_value, index=False)\n",
        "df_organizations.to_sql('organizations', engine, if_exists=if_exists_value, index=False)\n",
        "df_projects.to_sql('projects', engine, if_exists=if_exists_value, index=False)\n",
        "df_cancer_phases.to_sql('cancer_phases', engine, if_exists=if_exists_value, index=False)\n",
        "df_user.to_sql('users', engine, if_exists=if_exists_value, index=False)\n",
        "df_pr_exported.to_sql('publications', engine, if_exists=if_exists_value, index=False)\n",
        "df_budget.to_sql('budget', engine, if_exists=if_exists_value, index=False)\n",
        "df_invoice.to_sql('invoice', engine, if_exists=if_exists_value, index=False)\n",
        "df_research_types.to_sql('research_types', engine, if_exists=if_exists_value, index=False)\n",
        "df_cancer_types.to_sql('cancer_type', engine, if_exists=if_exists_value, index=False)\n",
        "df_scientific_justifications.to_sql('scientific_justifications', engine, if_exists=if_exists_value, index=False)\n",
        "df_research_team.to_sql('research_team', engine, if_exists=if_exists_value, index=False)\n",
        "df_project_research_type.to_sql('project_research_type', engine, if_exists=if_exists_value, index=False)\n",
        "df_project_cancer_type.to_sql('project_cancer_type', engine, if_exists=if_exists_value, index=False)\n",
        "df_project_cancer_phases.to_sql('project_cancer_phases', engine, if_exists=if_exists_value, index=False)\n",
        "# para añadir registros:\n",
        "# users_df.to_sql('users', engine, if_exists='append', index=False)"
      ],
      "metadata": {
        "colab": {
          "base_uri": "https://localhost:8080/"
        },
        "id": "UezM5R-HnTYp",
        "outputId": "7ac4fdb1-a6ce-4b89-db84-86654d6e7ec3"
      },
      "execution_count": null,
      "outputs": [
        {
          "output_type": "stream",
          "name": "stdout",
          "text": [
            "Requirement already satisfied: psycopg2-binary in c:\\users\\jrver\\anaconda3\\lib\\site-packages (2.9.7)\n",
            "Requirement already satisfied: sqlalchemy in c:\\users\\jrver\\anaconda3\\lib\\site-packages (1.4.32)\n",
            "Requirement already satisfied: greenlet!=0.4.17 in c:\\users\\jrver\\anaconda3\\lib\\site-packages (from sqlalchemy) (1.1.1)\n"
          ]
        },
        {
          "output_type": "execute_result",
          "data": {
            "text/plain": [
              "489"
            ]
          },
          "metadata": {},
          "execution_count": 3
        }
      ]
    },
    {
      "cell_type": "code",
      "source": [
        "# @title CARGA DE DATOS A LA MV-GCP\n",
        "from google.colab import drive\n",
        "drive.mount('/content/drive')\n",
        "\n",
        "import pandas as pd\n",
        "from pandas import Series\n",
        "import string\n",
        "import re\n",
        "import numpy as np\n",
        "\n",
        "\n",
        "!pip install psycopg2-binary sqlalchemy\n",
        "from sqlalchemy import create_engine\n",
        "#import psycopg2\n",
        "\n",
        "\n",
        "\n",
        "local_path = '/content/drive/Shared drives/TFM/BBDD/EXPORTED/datos_exported/'\n",
        "\n",
        "df_user = pd.read_csv(local_path + 'df_user.csv', encoding='utf-8')\n",
        "df_budget = pd.read_csv(local_path + 'df_budget.csv', encoding='utf-8')\n",
        "df_grant_type = pd.read_csv(local_path + 'df_grant_type.csv', encoding='utf-8')\n",
        "df_invoice = pd.read_csv(local_path + 'df_invoice.csv', encoding='utf-8')\n",
        "df_organizations = pd.read_csv(local_path + 'df_organizations.csv', encoding='utf-8')\n",
        "df_projects = pd.read_csv(local_path + 'df_projects.csv', encoding='utf-8')\n",
        "df_research_types = pd.read_csv(local_path + 'df_research_types.csv', encoding='utf-8')\n",
        "df_cancer_types = pd.read_csv(local_path + 'df_cancer_types.csv', encoding='utf-8')\n",
        "df_cancer_phases = pd.read_csv(local_path + 'df_cancer_phases.csv', encoding='utf-8')\n",
        "df_scientific_justifications = pd.read_csv(local_path + 'df_scientific_justifications.csv', encoding='utf-8')\n",
        "df_research_team = pd.read_csv(local_path + 'df_research_team.csv', encoding='utf-8')\n",
        "df_project_research_type = pd.read_csv(local_path + 'df_project_research_type.csv', encoding='utf-8')\n",
        "df_project_cancer_type = pd.read_csv(local_path + 'df_project_cancer_type.csv', encoding='utf-8')\n",
        "df_project_cancer_phases = pd.read_csv(local_path + 'df_project_cancer_phases.csv', encoding='utf-8')\n",
        "df_pr_exported = pd.read_csv(local_path + 'df_pr_exported.csv', encoding='utf-8')\n",
        "\n",
        "\n",
        "# Parámetros de conexión\n",
        "host = \"34.171.145.247\"\n",
        "port = \"5432\"\n",
        "database = \"postgres\"\n",
        "user = \"postgres\"\n",
        "password = \"BestPasswordEver\"\n",
        "\n",
        "# Construye la cadena de conexión DATABASE_URL\n",
        "DATABASE_URL = f\"postgresql+psycopg2://{user}:{password}@{host}:{port}/{database}\"\n",
        "\n",
        "# Crea el motor de conexión\n",
        "engine = create_engine(DATABASE_URL)\n",
        "\n",
        "if_exists_value = \"append\"\n",
        "\n",
        "########### REPLACE: AÑADIR TABLAS y SUSTITUIR VALORES ################\n",
        "\n",
        "########## APPEND: AÑADIR REGISTROS NUEVOS A UNA TABLA EXISTENTE ####\n",
        "\n",
        "df_grant_type.to_sql('grant_types', engine, if_exists=if_exists_value, index=False)\n",
        "df_organizations.to_sql('organizations', engine, if_exists=if_exists_value, index=False)\n",
        "df_projects.to_sql('projects', engine, if_exists=if_exists_value, index=False)\n",
        "df_cancer_phases.to_sql('cancer_phases', engine, if_exists=if_exists_value, index=False)\n",
        "df_user.to_sql('users', engine, if_exists=if_exists_value, index=False)\n",
        "df_pr_exported.to_sql('publications', engine, if_exists=if_exists_value, index=False)\n",
        "df_budget.to_sql('budget', engine, if_exists=if_exists_value, index=False)\n",
        "df_invoice.to_sql('invoice', engine, if_exists=if_exists_value, index=False)\n",
        "df_research_types.to_sql('research_types', engine, if_exists=if_exists_value, index=False)\n",
        "df_cancer_types.to_sql('cancer_type', engine, if_exists=if_exists_value, index=False)\n",
        "df_scientific_justifications.to_sql('scientific_justifications', engine, if_exists=if_exists_value, index=False)\n",
        "df_research_team.to_sql('research_team', engine, if_exists=if_exists_value, index=False)\n",
        "df_project_research_type.to_sql('project_research_type', engine, if_exists=if_exists_value, index=False)\n",
        "df_project_cancer_type.to_sql('project_cancer_type', engine, if_exists=if_exists_value, index=False)\n",
        "df_project_cancer_phases.to_sql('project_cancer_phases', engine, if_exists=if_exists_value, index=False)\n",
        "# para añadir registros:\n",
        "# users_df.to_sql('users', engine, if_exists='append', index=False)\n"
      ],
      "metadata": {
        "id": "xMVyFVbnpi04",
        "outputId": "fd26a508-4f31-4d92-853a-1ffad437a710",
        "colab": {
          "base_uri": "https://localhost:8080/"
        }
      },
      "execution_count": null,
      "outputs": [
        {
          "output_type": "stream",
          "name": "stdout",
          "text": [
            "Drive already mounted at /content/drive; to attempt to forcibly remount, call drive.mount(\"/content/drive\", force_remount=True).\n",
            "Requirement already satisfied: psycopg2-binary in /usr/local/lib/python3.10/dist-packages (2.9.9)\n",
            "Requirement already satisfied: sqlalchemy in /usr/local/lib/python3.10/dist-packages (2.0.21)\n",
            "Requirement already satisfied: typing-extensions>=4.2.0 in /usr/local/lib/python3.10/dist-packages (from sqlalchemy) (4.5.0)\n",
            "Requirement already satisfied: greenlet!=0.4.17 in /usr/local/lib/python3.10/dist-packages (from sqlalchemy) (3.0.0)\n"
          ]
        },
        {
          "output_type": "execute_result",
          "data": {
            "text/plain": [
              "489"
            ]
          },
          "metadata": {},
          "execution_count": 2
        }
      ]
    }
  ],
  "metadata": {
    "colab": {
      "provenance": [],
      "gpuType": "T4",
      "toc_visible": true,
      "include_colab_link": true
    },
    "kernelspec": {
      "display_name": "Python 3",
      "name": "python3"
    },
    "language_info": {
      "name": "python"
    }
  },
  "nbformat": 4,
  "nbformat_minor": 0
}